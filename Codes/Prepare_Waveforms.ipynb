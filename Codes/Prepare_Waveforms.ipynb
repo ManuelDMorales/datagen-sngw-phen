{
 "cells": [
  {
   "cell_type": "markdown",
   "id": "4b98894b-d207-4f08-afc3-9917aed98522",
   "metadata": {},
   "source": [
    "<font size=\"5.5\"><u><i>Prepare Waveforms</i></u></font>"
   ]
  },
  {
   "cell_type": "markdown",
   "id": "a3d86d7f-211e-4bd2-a981-2343b0117b3b",
   "metadata": {},
   "source": [
    "Preparation of multiple phenomenological gravitational waves emitted by core-collapse supernovae</font>\n",
    "<br/>\n",
    "Author: Manuel David Morales"
   ]
  },
  {
   "cell_type": "markdown",
   "id": "905fd581-2ce2-490f-99ad-05bb25989928",
   "metadata": {},
   "source": [
    "## 1. Library imports"
   ]
  },
  {
   "cell_type": "code",
   "execution_count": 1,
   "id": "03749fd8-a1f6-4352-b03c-296406fb42ee",
   "metadata": {
    "execution": {
     "iopub.execute_input": "2025-03-03T00:23:48.986345Z",
     "iopub.status.busy": "2025-03-03T00:23:48.985966Z",
     "iopub.status.idle": "2025-03-03T00:23:50.520082Z",
     "shell.execute_reply": "2025-03-03T00:23:50.519409Z",
     "shell.execute_reply.started": "2025-03-03T00:23:48.986252Z"
    },
    "tags": []
   },
   "outputs": [
    {
     "name": "stderr",
     "output_type": "stream",
     "text": [
      "/home/manuel/.programs/anaconda3/lib/python3.9/site-packages/pycbc/types/array.py:36: UserWarning: Wswiglal-redir-stdio:\n",
      "\n",
      "SWIGLAL standard output/error redirection is enabled in IPython.\n",
      "This may lead to performance penalties. To disable locally, use:\n",
      "\n",
      "with lal.no_swig_redirect_standard_output_error():\n",
      "    ...\n",
      "\n",
      "To disable globally, use:\n",
      "\n",
      "lal.swig_redirect_standard_output_error(False)\n",
      "\n",
      "Note however that this will likely lead to error messages from\n",
      "LAL functions being either misdirected or lost when called from\n",
      "Jupyter notebooks.\n",
      "\n",
      "To suppress this warning, use:\n",
      "\n",
      "import warnings\n",
      "warnings.filterwarnings(\"ignore\", \"Wswiglal-redir-stdio\")\n",
      "import lal\n",
      "\n",
      "  import lal as _lal\n"
     ]
    }
   ],
   "source": [
    "# Data analysis\n",
    "import numpy as np \n",
    "import pandas as pd\n",
    "\n",
    "# Visualization\n",
    "import matplotlib as mpl\n",
    "import matplotlib.pyplot as plt\n",
    "\n",
    "# Files/folders management\n",
    "import os, glob, sys, re\n",
    "\n",
    "# Scientific computing\n",
    "from scipy import signal\n",
    "\n",
    "# Garbage collector\n",
    "import gc\n",
    "\n",
    "# Object serialization\n",
    "import pickle\n",
    "\n",
    "# Show time execution\n",
    "import time as tm\n",
    "\n",
    "# Toolbox functions\n",
    "from Toolbox import extract_WFinfo, resample_gw, SNR, SNR_PyCBC, WaveletTF_transform, Morlet_wavelet"
   ]
  },
  {
   "cell_type": "markdown",
   "id": "73e63f18-16d3-4332-85e0-5368fa47e0a1",
   "metadata": {},
   "source": [
    "### 1.1 Function to compute execution time"
   ]
  },
  {
   "cell_type": "code",
   "execution_count": 2,
   "id": "55d57df1-d8a0-4e9f-8bef-83bc93aca0d3",
   "metadata": {
    "execution": {
     "iopub.execute_input": "2025-03-03T00:23:50.521972Z",
     "iopub.status.busy": "2025-03-03T00:23:50.521669Z",
     "iopub.status.idle": "2025-03-03T00:23:50.525922Z",
     "shell.execute_reply": "2025-03-03T00:23:50.525370Z",
     "shell.execute_reply.started": "2025-03-03T00:23:50.521955Z"
    },
    "tags": []
   },
   "outputs": [],
   "source": [
    "def execution_time(ini_time, end_time, exe_time_t):\n",
    "    \n",
    "    exe_time = end_time - ini_time\n",
    "    exe_time_tot = exe_time_t + exe_time\n",
    "    \n",
    "    print(\"\")\n",
    "    print(\"===========================================================================\")\n",
    "    print(f\"Execution time current cell (seconds): {exe_time}\")\n",
    "    print(f\"Total execution time (seconds): {exe_time_tot}\")\n",
    "\n",
    "    return exe_time_tot"
   ]
  },
  {
   "cell_type": "code",
   "execution_count": 3,
   "id": "74afe98c-4692-41aa-8aa3-2a1622076989",
   "metadata": {
    "execution": {
     "iopub.execute_input": "2025-03-03T00:23:50.526867Z",
     "iopub.status.busy": "2025-03-03T00:23:50.526663Z",
     "iopub.status.idle": "2025-03-03T00:23:50.641158Z",
     "shell.execute_reply": "2025-03-03T00:23:50.638410Z",
     "shell.execute_reply.started": "2025-03-03T00:23:50.526849Z"
    },
    "tags": []
   },
   "outputs": [],
   "source": [
    "exe_time_t = 0.0"
   ]
  },
  {
   "cell_type": "markdown",
   "id": "aa0805d9-4144-463b-bf09-b3ee180dcdb1",
   "metadata": {
    "tags": []
   },
   "source": [
    "## 2. Input parameters"
   ]
  },
  {
   "cell_type": "code",
   "execution_count": 4,
   "id": "1554f0b6-c2b0-40ab-81a5-d736ecf7ff59",
   "metadata": {
    "execution": {
     "iopub.execute_input": "2025-03-03T00:23:50.644393Z",
     "iopub.status.busy": "2025-03-03T00:23:50.643783Z",
     "iopub.status.idle": "2025-03-03T00:23:50.760823Z",
     "shell.execute_reply": "2025-03-03T00:23:50.758693Z",
     "shell.execute_reply.started": "2025-03-03T00:23:50.644325Z"
    },
    "tags": []
   },
   "outputs": [
    {
     "name": "stdout",
     "output_type": "stream",
     "text": [
      "\n",
      "===========================================================================\n",
      "Execution time current cell (seconds): 0.00020956993103027344\n",
      "Total execution time (seconds): 0.00020956993103027344\n"
     ]
    }
   ],
   "source": [
    "ini_time = tm.time()\n",
    "\n",
    "# Rescaling factor for all waveforms\n",
    "# -----------------------------------------------------------\n",
    "Resc_factor =  3.0e-22\n",
    "\n",
    "# Options\n",
    "# -----------\n",
    "# High SNR values: 8.0e-22 (for L1, H1), 4.0e-21 (for V1)\n",
    "# Low SNR values: 5.0e-22 (for L1, H1), \n",
    "\n",
    "# -----------------------------------------------------------\n",
    "# Remark: This option was tuned by monitorying\n",
    "# SNR distributions on Populations_Explorer script\n",
    "\n",
    "end_time = tm.time()\n",
    "exe_time_t = execution_time(ini_time, end_time, exe_time_t)"
   ]
  },
  {
   "cell_type": "markdown",
   "id": "208fc10e-8e7c-4ee2-8f76-6e8826ecdb12",
   "metadata": {},
   "source": [
    "## 3. Read files"
   ]
  },
  {
   "cell_type": "code",
   "execution_count": 5,
   "id": "9917528b-6974-40d9-9ab2-c0a4f9cfbae5",
   "metadata": {
    "execution": {
     "iopub.execute_input": "2025-03-03T00:23:50.766679Z",
     "iopub.status.busy": "2025-03-03T00:23:50.765809Z",
     "iopub.status.idle": "2025-03-03T00:23:50.831920Z",
     "shell.execute_reply": "2025-03-03T00:23:50.831331Z",
     "shell.execute_reply.started": "2025-03-03T00:23:50.766559Z"
    },
    "tags": []
   },
   "outputs": [
    {
     "name": "stdout",
     "output_type": "stream",
     "text": [
      "No. of class 1 waveforms: 200\n",
      "No. of class 2 waveforms: 200\n",
      "No. of class 3 waveforms: 200\n",
      "\n",
      "===========================================================================\n",
      "Execution time current cell (seconds): 0.003093242645263672\n",
      "Total execution time (seconds): 0.0033028125762939453\n"
     ]
    }
   ],
   "source": [
    "ini_time = tm.time()\n",
    "\n",
    "# ------> Specify folders/files\n",
    "\n",
    "wf_dir = \"/home/manuel/Research Projects/GW Data analysis/GitHub/datagen-sngw-phen/Waveforms_orig/\"\n",
    "\n",
    "# Class 1 waveforms\n",
    "wf_dir_c1 = wf_dir + \"/Phen/class1/\"\n",
    "wf_files_c1 = sorted(glob.glob(wf_dir_c1 + '*.csv'))\n",
    "print(\"No. of class 1 waveforms:\", len(wf_files_c1))\n",
    "#display(wf_files_c1)\n",
    "\n",
    "# Class 2 waveforms\n",
    "wf_dir_c2 = wf_dir + \"Phen/class2/\"\n",
    "wf_files_c2 = sorted(glob.glob(wf_dir_c2 + '*.csv'))\n",
    "print(\"No. of class 2 waveforms:\", len(wf_files_c2))\n",
    "#display(wf_files_c2)\n",
    "\n",
    "# Class 3 waveforms\n",
    "wf_dir_c3 = wf_dir + \"Phen/class3/\"\n",
    "wf_files_c3 = sorted(glob.glob(wf_dir_c3 + '*.csv'))\n",
    "print(\"No. of class 3 waveforms:\", len(wf_files_c3))\n",
    "#display(wf_files_c3)\n",
    "\n",
    "end_time = tm.time()\n",
    "exe_time_t = execution_time(ini_time, end_time, exe_time_t)"
   ]
  },
  {
   "cell_type": "code",
   "execution_count": 6,
   "id": "ddea0ae1-8c9e-482e-861d-e34311f4ef80",
   "metadata": {
    "execution": {
     "iopub.execute_input": "2025-03-03T00:23:50.833148Z",
     "iopub.status.busy": "2025-03-03T00:23:50.832825Z",
     "iopub.status.idle": "2025-03-03T00:23:54.329374Z",
     "shell.execute_reply": "2025-03-03T00:23:54.328800Z",
     "shell.execute_reply.started": "2025-03-03T00:23:50.833116Z"
    },
    "tags": []
   },
   "outputs": [
    {
     "name": "stdout",
     "output_type": "stream",
     "text": [
      "Reading waveforms of class 1\n",
      "Reading waveforms of class 2\n",
      "Reading waveforms of class 3\n",
      "\n",
      "===========================================================================\n",
      "Execution time current cell (seconds): 3.385706663131714\n",
      "Total execution time (seconds): 3.389009475708008\n"
     ]
    }
   ],
   "source": [
    "ini_time = tm.time()\n",
    "\n",
    "# ------> Read all waveform files\n",
    "\n",
    "# Sort filenames per waveform class\n",
    "wf_files = [wf_files_c1, wf_files_c2, wf_files_c3]\n",
    "\n",
    "# Initialize dictionary for waveforms strain\n",
    "wfs_o = {}\n",
    "\n",
    "# Initialize dictionary for waveforms log data\n",
    "waveforms_log = {}\n",
    "\n",
    "# Initialize class count\n",
    "class_count = 1\n",
    "\n",
    "for class_files in wf_files:\n",
    "    \n",
    "    print(\"Reading waveforms of class\", class_count)\n",
    "    wfs_c_o = []\n",
    "    wfslog_c = []\n",
    "    \n",
    "    # Read waveform files\n",
    "    for csv in class_files:\n",
    "    \n",
    "        # Read waveform\n",
    "        df = pd.read_csv(csv, usecols=['H'])\n",
    "        strain = df['H'].to_numpy()\n",
    "        wfs_c_o.append(strain)\n",
    "    \n",
    "        # Extract log data\n",
    "        slope, f0, f1 = extract_WFinfo(csv)\n",
    "        wfslog_c.append([slope, f0, f1])\n",
    "\n",
    "        #print(\"File read:\", csv)\n",
    "        \n",
    "    wfs_o[\"class \" + str(class_count)] = wfs_c_o\n",
    "    waveforms_log[\"class \" + str(class_count)] = wfslog_c\n",
    "    \n",
    "    class_count += 1\n",
    "\n",
    "end_time = tm.time()\n",
    "exe_time_t = execution_time(ini_time, end_time, exe_time_t)"
   ]
  },
  {
   "cell_type": "code",
   "execution_count": 7,
   "id": "da829c2b-cc6e-4a23-ac43-088f7ebb7cb0",
   "metadata": {
    "execution": {
     "iopub.execute_input": "2025-03-03T00:23:54.330508Z",
     "iopub.status.busy": "2025-03-03T00:23:54.330254Z",
     "iopub.status.idle": "2025-03-03T00:23:54.334864Z",
     "shell.execute_reply": "2025-03-03T00:23:54.334187Z",
     "shell.execute_reply.started": "2025-03-03T00:23:54.330484Z"
    },
    "tags": []
   },
   "outputs": [
    {
     "name": "stdout",
     "output_type": "stream",
     "text": [
      "Keys of wfs_o dictionary:  dict_keys(['class 1', 'class 2', 'class 3'])\n",
      "Keys of waveforms_log dictionary:  dict_keys(['class 1', 'class 2', 'class 3'])\n"
     ]
    }
   ],
   "source": [
    "# Checks\n",
    "print(\"Keys of wfs_o dictionary: \", wfs_o.keys())\n",
    "print(\"Keys of waveforms_log dictionary: \", waveforms_log.keys())"
   ]
  },
  {
   "cell_type": "markdown",
   "id": "d446eb79-837b-4646-9a1c-2ff86f64635c",
   "metadata": {},
   "source": [
    "## 4. Resampling/Rescaling"
   ]
  },
  {
   "cell_type": "code",
   "execution_count": 8,
   "id": "52ff986a-4811-4dcd-b66c-93e83d9faed1",
   "metadata": {
    "execution": {
     "iopub.execute_input": "2025-03-03T00:23:54.336436Z",
     "iopub.status.busy": "2025-03-03T00:23:54.335869Z",
     "iopub.status.idle": "2025-03-03T00:23:56.827251Z",
     "shell.execute_reply": "2025-03-03T00:23:56.826521Z",
     "shell.execute_reply.started": "2025-03-03T00:23:54.336408Z"
    },
    "tags": []
   },
   "outputs": [
    {
     "name": "stdout",
     "output_type": "stream",
     "text": [
      "Resampling waveforms of class 1\n",
      "Resampling waveforms of class 2\n",
      "Resampling waveforms of class 3\n",
      "\n",
      "===========================================================================\n",
      "Execution time current cell (seconds): 2.402636766433716\n",
      "Total execution time (seconds): 5.791646242141724\n"
     ]
    }
   ],
   "source": [
    "ini_time = tm.time()\n",
    "\n",
    "# ------> Apply resampling to all waveforms\n",
    "\n",
    "# Original sampling freq (Hz) and sampling time (seconds) of waveforms\n",
    "fs = 16384\n",
    "ts = 1 / fs\n",
    "\n",
    "# Sort waveforms per class\n",
    "wfs_ini = [wfs_o[\"class 1\"], wfs_o[\"class 2\"], wfs_o[\"class 3\"]]\n",
    "\n",
    "# Initialize dictionary for waveforms strain\n",
    "waveforms = {}\n",
    "\n",
    "# Initialize class count\n",
    "class_count = 1\n",
    "\n",
    "for wf in wfs_ini:\n",
    "    \n",
    "    print(\"Resampling waveforms of class\", class_count)\n",
    "    \n",
    "    # Initialize list for single-class waveforms\n",
    "    wfs_c = []\n",
    "    \n",
    "    # Initialize waveform count\n",
    "    wf_count = 0\n",
    "    \n",
    "    for strain_o in wf:\n",
    "        #print(\"Resampling waveform \", wf_count)\n",
    "        #print(strain)\n",
    "        t_o = []\n",
    "        \n",
    "        # Generate time array\n",
    "        for i in range(len(strain_o)):\n",
    "            t_o.append(i*ts)\n",
    "        time_o = np.array(t_o)\n",
    "    \n",
    "        # -------------------\n",
    "        # Resample waveform\n",
    "        # -------------------\n",
    "        fs_after = 4096\n",
    "        time, strain = resample_gw(time_o, strain_o, fs_after)\n",
    "        \n",
    "        # ----------------------------------------\n",
    "        # Rescale waveform strain by Resc_factor\n",
    "        # ----------------------------------------\n",
    "        strain = strain*Resc_factor\n",
    "    \n",
    "        # Save waveform into wfs_c list\n",
    "        wf_block = np.transpose( np.vstack([time, strain]) )\n",
    "        wfs_c.append(wf_block)\n",
    "        \n",
    "        # Compute waveform duration\n",
    "        duration = time[-1] - time[0]\n",
    "        \n",
    "        # Convert duration value to string\n",
    "        dur = f'{duration:.12f}'\n",
    "        \n",
    "        # Append waveform duration to waveforms_log list\n",
    "        waveforms_log[\"class \" + str(class_count)][wf_count].append(dur)\n",
    "               \n",
    "        wf_count += 1\n",
    "        \n",
    "    # Generate dicionary for all single-class waveforms\n",
    "    waveforms[\"class \" + str(class_count)] = wfs_c\n",
    "    \n",
    "    class_count += 1\n",
    "\n",
    "end_time = tm.time()\n",
    "exe_time_t = execution_time(ini_time, end_time, exe_time_t)"
   ]
  },
  {
   "cell_type": "markdown",
   "id": "ce793cf6-1b2b-4570-b0c9-4f8bae6c5134",
   "metadata": {},
   "source": [
    "## 5. Sanity checks"
   ]
  },
  {
   "cell_type": "code",
   "execution_count": 9,
   "id": "e57041ed-de45-44f7-8f41-c9f523507436",
   "metadata": {
    "execution": {
     "iopub.execute_input": "2025-03-03T00:23:56.828844Z",
     "iopub.status.busy": "2025-03-03T00:23:56.828176Z",
     "iopub.status.idle": "2025-03-03T00:23:56.836202Z",
     "shell.execute_reply": "2025-03-03T00:23:56.835430Z",
     "shell.execute_reply.started": "2025-03-03T00:23:56.828813Z"
    }
   },
   "outputs": [
    {
     "name": "stdout",
     "output_type": "stream",
     "text": [
      "Keys of waveforms dictionary:  dict_keys(['class 1', 'class 2', 'class 3'])\n",
      "Keys of waveforms_log dictionary:  dict_keys(['class 1', 'class 2', 'class 3'])\n",
      "\n",
      "A waveform strain: [[ 0.00000000e+000  1.27593124e-120]\n",
      " [ 2.44140625e-004 -3.22222672e-106]\n",
      " [ 4.88281250e-004  7.00415465e-104]\n",
      " ...\n",
      " [ 8.38378906e-001 -4.92573455e-023]\n",
      " [ 8.38623047e-001  4.33308804e-023]\n",
      " [ 8.38867188e-001 -2.14651160e-023]]\n",
      "\n",
      "Its log information: ['1493', '111.26', '1758.54', '0.838867187500']\n"
     ]
    }
   ],
   "source": [
    "#%%script false --no-raise-error # WARNING: DEACTIVATED CELL\n",
    "\n",
    "# ------> Check dictionaries\n",
    "\n",
    "print(\"Keys of waveforms dictionary: \", waveforms.keys())\n",
    "print(\"Keys of waveforms_log dictionary: \", waveforms_log.keys())\n",
    "\n",
    "# Remark: How to access waveforms and log data\n",
    "# waveforms[\"class c\"][n]  ---> to extract n-th waveform of class c\n",
    "# waveforms_log[\"class c\"][n]  ---> to extract log data of n-th waveform of class c\n",
    "print(\"\")\n",
    "print(\"A waveform strain:\", waveforms[\"class 2\"][123]) # 123-th waveform of class 2\n",
    "print(\"\")\n",
    "print(\"Its log information:\", waveforms_log[\"class 2\"][123]) # its log data"
   ]
  },
  {
   "cell_type": "code",
   "execution_count": 10,
   "id": "1ca20330-1fbd-4466-810c-564ab509415c",
   "metadata": {
    "execution": {
     "iopub.execute_input": "2025-03-03T00:23:56.837338Z",
     "iopub.status.busy": "2025-03-03T00:23:56.837084Z",
     "iopub.status.idle": "2025-03-03T00:23:57.227439Z",
     "shell.execute_reply": "2025-03-03T00:23:57.227003Z",
     "shell.execute_reply.started": "2025-03-03T00:23:56.837315Z"
    }
   },
   "outputs": [
    {
     "data": {
      "image/png": "[encoded data removed]",
      "text/plain": [
       "<Figure size 576x360 with 1 Axes>"
      ]
     },
     "metadata": {
      "needs_background": "light"
     },
     "output_type": "display_data"
    },
    {
     "name": "stdout",
     "output_type": "stream",
     "text": [
      "\n",
      "---------------------------------------------------------------------------\n",
      "Slope=1031 | f0=116.08Hz | f1=1423.62Hz | Duration=0.666503906250s\n",
      "---------------------------------------------------------------------------\n",
      "\n"
     ]
    },
    {
     "data": {
      "text/plain": [
       "<Figure size 432x288 with 0 Axes>"
      ]
     },
     "metadata": {},
     "output_type": "display_data"
    }
   ],
   "source": [
    "#%%script false --no-raise-error # WARNING: DEACTIVATED CELL\n",
    "\n",
    "# ------> Plot a waveform\n",
    "\n",
    "# Set waveform class and number\n",
    "label = \"3\"\n",
    "num_wf = 23\n",
    "\n",
    "# Initialize lists for time and strain\n",
    "time = []\n",
    "strain = []\n",
    "\n",
    "# Fill lists\n",
    "for i in range(len(waveforms[\"class \" + label][num_wf])):\n",
    "    time.append(waveforms[\"class \" + label][num_wf][i][0])\n",
    "    strain.append(waveforms[\"class \" + label][num_wf][i][1])\n",
    "    \n",
    "# Extract log information\n",
    "slope = waveforms_log[\"class \" + label][num_wf][0]\n",
    "f0 = waveforms_log[\"class \" + label][num_wf][1]\n",
    "f1 = waveforms_log[\"class \" + label][num_wf][2]\n",
    "dur = waveforms_log[\"class \" + label][num_wf][3]\n",
    "\n",
    "# Plot waveform\n",
    "plt.figure(1, figsize=(8,5))\n",
    "plt.plot(time, strain)\n",
    "plt.title(\"Phenomenological waveform\", fontsize=17)\n",
    "plt.xlabel('Post-bounce time [s]', fontsize=16)\n",
    "plt.ylabel('Strain', fontsize=16)\n",
    "plt.grid()\n",
    "plt.tight_layout()\n",
    "plt.show()\n",
    "plt.figure(1).clear()\n",
    "gc.collect()\n",
    "print(\"\")\n",
    "print(\"---------------------------------------------------------------------------\")\n",
    "print(\"Slope=\" + slope + \" | f0=\" + f0 + \"Hz | f1=\" + f1 + \"Hz | Duration=\" + dur + \"s\")\n",
    "print(\"---------------------------------------------------------------------------\")\n",
    "print(\"\")"
   ]
  },
  {
   "cell_type": "markdown",
   "id": "a4d2c41f-32c5-46b0-9ee2-9a8cced0a9bd",
   "metadata": {},
   "source": [
    "## 5. Save modified waveforms"
   ]
  },
  {
   "cell_type": "code",
   "execution_count": 11,
   "id": "f70b62d1-ec2c-4b82-8687-cab448622cc5",
   "metadata": {
    "execution": {
     "iopub.execute_input": "2025-03-03T00:23:57.228476Z",
     "iopub.status.busy": "2025-03-03T00:23:57.228298Z",
     "iopub.status.idle": "2025-03-03T00:23:57.711521Z",
     "shell.execute_reply": "2025-03-03T00:23:57.709499Z",
     "shell.execute_reply.started": "2025-03-03T00:23:57.228459Z"
    },
    "tags": []
   },
   "outputs": [
    {
     "name": "stdout",
     "output_type": "stream",
     "text": [
      "waveforms dictionary saved successfully\n",
      "waveform_log dictionary saved successfully\n",
      "\n",
      "===========================================================================\n",
      "Execution time current cell (seconds): 0.47414302825927734\n",
      "Total execution time (seconds): 6.265789270401001\n"
     ]
    }
   ],
   "source": [
    "ini_time = tm.time()\n",
    "\n",
    "if not os.path.exists('../Waveforms_mod/Phen'): \n",
    "    os.makedirs('../Waveforms_mod/Phen')\n",
    "\n",
    "# Save waveforms dictionary\n",
    "with open('../Waveforms_mod/Phen/waveforms.pkl', 'wb') as fp:\n",
    "    pickle.dump(waveforms, fp)\n",
    "    print('waveforms dictionary saved successfully')\n",
    "    \n",
    "# Save waveforms_log dictionary\n",
    "with open('../Waveforms_mod/Phen/waveforms_log.pkl', 'wb') as fp:\n",
    "    pickle.dump(waveforms_log, fp)\n",
    "    print('waveform_log dictionary saved successfully')\n",
    "    \n",
    "end_time = tm.time()\n",
    "exe_time_t = execution_time(ini_time, end_time, exe_time_t)"
   ]
  },
  {
   "cell_type": "code",
   "execution_count": null,
   "id": "26ea1623-01ed-4442-9472-79a3d505b3d4",
   "metadata": {},
   "outputs": [],
   "source": []
  }
 ],
 "metadata": {
  "kernelspec": {
   "display_name": "Python 3 (ipykernel)",
   "language": "python",
   "name": "python3"
  },
  "language_info": {
   "codemirror_mode": {
    "name": "ipython",
    "version": 3
   },
   "file_extension": ".py",
   "mimetype": "text/x-python",
   "name": "python",
   "nbconvert_exporter": "python",
   "pygments_lexer": "ipython3",
   "version": "3.9.7"
  }
 },
 "nbformat": 4,
 "nbformat_minor": 5
}
